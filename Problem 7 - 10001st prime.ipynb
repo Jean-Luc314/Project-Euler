{
  "cells": [
    {
      "cell_type": "raw",
      "metadata": {},
      "source": [
        "---\n",
        "title: \"Hello, Quarto\"\n",
        "format: html\n",
        "---"
      ],
      "id": "75c42050"
    },
    {
      "cell_type": "markdown",
      "metadata": {},
      "source": [
        "## Markdown\n",
        "\n",
        "Markdown is an easy to read and write text format:\n",
        "\n",
        "- It's _plain text_ so works well with version control\n",
        "- It can be **rendered** into HTML, PDF, and more\n",
        "- Learn more at: <https://quarto.org/docs/authoring/>\n",
        "\n",
        "## Code Cell\n",
        "\n",
        "Here is a Python code cell:\n"
      ],
      "id": "46ce0351"
    },
    {
      "cell_type": "code",
      "metadata": {},
      "source": [
        "import os\n",
        "os.cpu_count()"
      ],
      "id": "f5a01284",
      "execution_count": null,
      "outputs": []
    },
    {
      "cell_type": "markdown",
      "metadata": {},
      "source": [
        "## Equation\n",
        "\n",
        "Use LaTeX to write equations:\n",
        "\n",
        "\n",
        "$$\n",
        "chi' = sum_{i=1}^n k_i s_i^2\n",
        "$$"
      ],
      "id": "bed91397"
    }
  ],
  "metadata": {
    "kernelspec": {
      "display_name": "Python 3",
      "language": "python",
      "name": "python3"
    }
  },
  "nbformat": 4,
  "nbformat_minor": 5
}